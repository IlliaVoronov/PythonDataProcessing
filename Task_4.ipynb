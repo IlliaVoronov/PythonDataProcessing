{
 "cells": [
  {
   "cell_type": "markdown",
   "id": "b447d899-e5c9-44fe-ac2e-4af6056826a1",
   "metadata": {},
   "source": [
    "<h1 style=\"color: #001489; text-align: center;\">Welcome to Greece!</h1>"
   ]
  },
  {
   "cell_type": "markdown",
   "id": "d839fa8f-ff87-4b3d-8246-43e5b3ce0897",
   "metadata": {},
   "source": [
    "<p style='font-size: 20px; background-color: #556DFF; text-align: center; color: white;'>It is a peninsular country, with an archipelago of about <strong>3,000 islands</strong>. It has a total area of <u>131,957</u> km2.\n",
    "<br>\n",
    "The population of Greece is: \"<i>10.43 million</i>\"\n",
    "</p>\n",
    "<hr>"
   ]
  },
  {
   "cell_type": "markdown",
   "id": "84016499-bee9-4d7d-a338-e76e319b09a0",
   "metadata": {},
   "source": [
    "<h2 style=\"color: #001489; text-align: center\">About the Government:</h2>\n",
    "\n"
   ]
  },
  {
   "cell_type": "markdown",
   "id": "ecb1f8da-8915-49f7-ada5-6faa0784961e",
   "metadata": {},
   "source": [
    "<p style='font-size: 20px; padding-left: 15px; color: #001489; text-align: center;'>Greece is a parliamentary representative democratic republic, where the <u><strong style='color: black'>President of Greece is the head of state</strong></u> and the <u><strong style='color: black'>Prime Minister of Greece is the head of government within a multi-party system</strong></u>. Legislative power is vested in both the government and the Hellenic Parliament.</p>\n"
   ]
  },
  {
   "cell_type": "markdown",
   "id": "49b1688f-bd46-4edd-8b9a-0b81ce4d7dcf",
   "metadata": {},
   "source": [
    "<h3 style='text-align: center'>The President of Greece \"Katerina Sakellaropoulou\"</h3>\n"
   ]
  },
  {
   "cell_type": "markdown",
   "id": "3d7e4e69-3e95-471b-886a-0ff9281c389b",
   "metadata": {},
   "source": [
    "<div style='text-align: center;'>\n",
    "<a href=\"https://edition.cnn.com/2020/01/22/europe/greece-president-katerina-sakellaropoulou-intl/index.html\">\n",
    "  <img src=\"https://media.cnn.com/api/v1/images/stellar/prod/200122114359-ekaterini-sakellaropoulou-greece-president.jpg?q=x_0,y_137,h_1479,w_2629,c_crop/h_653,w_1160/f_webp\" alt=\"Python Logo\" style=\"height:200px; width: auto; padding-top: 30px; padding-bottom: 40px;\">\n",
    "</a>\n",
    "</div>"
   ]
  },
  {
   "cell_type": "markdown",
   "id": "4c7bc75a-02b4-48d0-b069-f79d4246e551",
   "metadata": {},
   "source": [
    "<div style='border: solid 1px; padding: 10px'>\n",
    "<h2>Celebrities</h2>\n",
    "<table style='font-size: 25px'>\n",
    "    <tr>\n",
    "        <th style='font-weight: 600;'>Celebrity</th>\n",
    "        <th style='font-weight: 600;'>Instagram Followers</th>\n",
    "    </tr>\n",
    "    <tr>\n",
    "        <th style='font-weight: normal;'>Doukissa Nomikou</th>\n",
    "        <th style='font-weight: normal;'>382K</th>\n",
    "    </tr>\n",
    "    <tr style='text-decoration: none;'>\n",
    "        <th style='font-weight: normal;'>Eleni Menegaki</th>\n",
    "        <th style='font-weight: normal;'>374K</th>\n",
    "    </tr>\n",
    "    <tr style='text-decoration: none;'>\n",
    "        <th style='font-weight: normal;'>Mary Synatsaki</th>\n",
    "        <th style='font-weight: normal;'>346K</th>\n",
    "    </tr>\n",
    "</table>\n",
    "<div style='display: flex;'>\n",
    "    <div style='display: flex; flex-direction: column;'> \n",
    "        <p style='padding-left: 20px; padding-right: 20px; padding-top: 70px'>Doukissa Nomikou:</p> <img style='width: auto; height: 200px;' src=\"images/Doukissa.jpg\">\n",
    "    </div>\n",
    "    <div style='display: flex;'> \n",
    "        <p style='padding-left: 20px; padding-right: 20px; padding-top: 70px'>Eleni Menegaki:</p> <img style='width: auto; height: 200px;;' src=\"images/Eleni.jpg\">\n",
    "    </div>\n",
    "    <div style='display: flex;'> \n",
    "        <p style='padding-left: 20px; padding-right: 20px; padding-top: 70px'>Mary Synatsaki:</p> <img style='width: auto; height: 200px;' src=\"images/MaryS.jpg\">\n",
    "    </div>\n",
    "</div>\n",
    "</div>"
   ]
  },
  {
   "cell_type": "markdown",
   "id": "ec7f6cd0-1d40-40b1-8864-5df6f71dcebc",
   "metadata": {},
   "source": [
    "<h2>Natural attractions in Greece</h2>\n",
    "<ul style='font-size: 25px;'>\n",
    "    <li><a href=\"https://image.jimcdn.com/app/cms/image/transf/none/path/sa6549607c78f5c11/image/ibfc967d0a8f32b05/version/1696232058/best-natural-wonders-in-greece-blue-caves-zakynthos.jpg\">Blue Caves</li>\n",
    "    <li><a href=\"https://image.jimcdn.com/app/cms/image/transf/none/path/sa6549607c78f5c11/image/i4caffca7929c24de/version/1696232095/best-natural-wonders-in-greece-meteora.jpg\">Meteora</li>\n",
    "    <li><a href=\"https://image.jimcdn.com/app/cms/image/transf/none/path/sa6549607c78f5c11/image/iefc5977e40d9c1cb/version/1696232103/best-natural-wonders-in-greece-agios-sostis-island.jpg\">Agios Sostis</li>\n",
    "    <li><a href=\"https://image.jimcdn.com/app/cms/image/transf/none/path/sa6549607c78f5c11/image/ia4e337354887805e/version/1696232074/best-nature-wonders-in-greece-melissani-cave.jpg\">Melissani Cave</li>\n",
    "    \n",
    "</ul>"
   ]
  },
  {
   "cell_type": "markdown",
   "id": "cd19cc70-db4c-42bc-8ba4-e6511eb9e03d",
   "metadata": {},
   "source": [
    "<h2>The Flag of Greece</h2>"
   ]
  },
  {
   "cell_type": "code",
   "execution_count": 140,
   "id": "1d2d1f47-4bb9-4eb6-a7c3-34f576758e34",
   "metadata": {},
   "outputs": [
    {
     "data": {
      "text/html": [
       "<svg xmlns=\"http://www.w3.org/2000/svg\" shape-rendering=\"geometricPrecision\" text-rendering=\"geometricPrecision\" image-rendering=\"optimizeQuality\" fill-rule=\"evenodd\" clip-rule=\"evenodd\" viewBox=\"0 0 58.41 40.63\"><g fill-rule=\"nonzero\"><path fill=\"#0D5EAF\" d=\"M3.21 0H55.2c1.77 0 3.21 1.44 3.21 3.21v34.21c0 1.77-1.44 3.21-3.21 3.21H3.21C1.44 40.63 0 39.19 0 37.42V3.21C0 1.44 1.44 0 3.21 0z\"/><path fill=\"#fff\" d=\"M11.98 0v8.84h9.19v-4.6h37.24v4.6H21.17v4.59h-9.19v9.18h46.43v4.6H0v-4.6h7.39v-9.18H0V8.84h7.39V0h4.59zm46.43 13.43v4.59H21.17v-4.59h37.24zm0 18.37v4.59H0V31.8h58.41z\"/></g></svg>\n"
      ],
      "text/plain": [
       "<IPython.core.display.HTML object>"
      ]
     },
     "metadata": {},
     "output_type": "display_data"
    }
   ],
   "source": [
    "%%HTML\n",
    "<svg xmlns=\"http://www.w3.org/2000/svg\" shape-rendering=\"geometricPrecision\" text-rendering=\"geometricPrecision\" image-rendering=\"optimizeQuality\" fill-rule=\"evenodd\" clip-rule=\"evenodd\" viewBox=\"0 0 58.41 40.63\"><g fill-rule=\"nonzero\"><path fill=\"#0D5EAF\" d=\"M3.21 0H55.2c1.77 0 3.21 1.44 3.21 3.21v34.21c0 1.77-1.44 3.21-3.21 3.21H3.21C1.44 40.63 0 39.19 0 37.42V3.21C0 1.44 1.44 0 3.21 0z\"/><path fill=\"#fff\" d=\"M11.98 0v8.84h9.19v-4.6h37.24v4.6H21.17v4.59h-9.19v9.18h46.43v4.6H0v-4.6h7.39v-9.18H0V8.84h7.39V0h4.59zm46.43 13.43v4.59H21.17v-4.59h37.24zm0 18.37v4.59H0V31.8h58.41z\"/></g></svg>"
   ]
  }
 ],
 "metadata": {
  "kernelspec": {
   "display_name": "Python 3 (ipykernel)",
   "language": "python",
   "name": "python3"
  },
  "language_info": {
   "codemirror_mode": {
    "name": "ipython",
    "version": 3
   },
   "file_extension": ".py",
   "mimetype": "text/x-python",
   "name": "python",
   "nbconvert_exporter": "python",
   "pygments_lexer": "ipython3",
   "version": "3.12.4"
  }
 },
 "nbformat": 4,
 "nbformat_minor": 5
}
