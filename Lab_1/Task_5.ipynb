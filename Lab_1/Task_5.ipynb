{
 "cells": [
  {
   "cell_type": "markdown",
   "id": "d3168c7c-0c2e-4df4-9ad0-0ebb72e54a7b",
   "metadata": {},
   "source": [
    "<h1>Lab 1. Task 5    ............ Enjoy :)</h1>"
   ]
  },
  {
   "cell_type": "code",
   "execution_count": 2,
   "id": "1ce80a46-c38f-4967-8f5e-5fff8104754b",
   "metadata": {},
   "outputs": [
    {
     "name": "stdout",
     "output_type": "stream",
     "text": [
      "Input must be an even integer greater than 2.\n",
      "Input must be an even integer greater than 2.\n",
      "No valid prime pair found for 11.\n"
     ]
    }
   ],
   "source": [
    "import sympy\n",
    "\n",
    "def task_5(n):\n",
    "    \n",
    "    try:\n",
    "        if n <= 2 or not(n % 2):\n",
    "            raise ValueError(\"Input must be an even integer greater than 2.\")\n",
    "        \n",
    "        # Find two prime numbers whose sum equals the input number\n",
    "        for i in range(2, n):\n",
    "            if sympy.isprime(i) and sympy.isprime(n - i):\n",
    "                print(f\"Number {n} can be expressed as {i} + {n - i}.\")\n",
    "                return\n",
    "        \n",
    "        print(f\"No valid prime pair found for {n}.\")\n",
    "    \n",
    "    except ValueError as e:\n",
    "        print(e)\n",
    "\n",
    "# Tests\n",
    "task_5(6)  # Should print: Number 6 can be expressed as 3 + 3\n",
    "task_5(28)  # Should print: Number 28 can be expressed as 5 + 23\n",
    "task_5(11)  # Should raise an error\n"
   ]
  },
  {
   "cell_type": "code",
   "execution_count": null,
   "id": "e1a0ce7b-7bda-4970-98e6-1a7666fc9c27",
   "metadata": {},
   "outputs": [],
   "source": []
  }
 ],
 "metadata": {
  "kernelspec": {
   "display_name": "Python 3 (ipykernel)",
   "language": "python",
   "name": "python3"
  },
  "language_info": {
   "codemirror_mode": {
    "name": "ipython",
    "version": 3
   },
   "file_extension": ".py",
   "mimetype": "text/x-python",
   "name": "python",
   "nbconvert_exporter": "python",
   "pygments_lexer": "ipython3",
   "version": "3.12.4"
  }
 },
 "nbformat": 4,
 "nbformat_minor": 5
}
